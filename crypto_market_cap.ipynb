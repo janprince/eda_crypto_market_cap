{
 "cells": [
  {
   "cell_type": "markdown",
   "id": "51d9e79a",
   "metadata": {},
   "source": [
    "## Exploring the Bitcoin Cryptocurrency Market\n",
    "<p>Since the launch of Bitcoin in 2008</a>, hundreds of similar projects based on the blockchain technology have emerged. We call these cryptocurrencies (also coins or cryptos in the Internet slang). Some are extremely valuable nowadays, and others may have the potential to become extremely valuable in the future<sup>1</sup>.</p>\n",
    "<p><center>\n",
    "<img src=\"https://assets.datacamp.com/production/project_82/img/bitcoint_market_cap_2017.png\" style=\"width:500px\"> <br> \n",
    "<em>The astonishing increase of Bitcoin market capitalization in 2017.</em></center></p>\n",
    "\n",
    "### Terms\n",
    "\n",
    "#### Circulating Supply\n",
    "The amount of coins that are circulating in the market and are in public hands. It is analogous to the flowing shares in the stock market.\n",
    "\n",
    "#### Market Cap\n",
    "The total market value of a cryptocurrency's circulating supply. It is analogous to the free-float capitalization in the stock market.\n",
    "\n",
    "Market Cap = Current Price x Circulating Supply."
   ]
  },
  {
   "cell_type": "code",
   "execution_count": 2,
   "id": "92ec80ce",
   "metadata": {},
   "outputs": [
    {
     "data": {
      "text/plain": [
       "id                1326\n",
       "market_cap_usd    1031\n",
       "dtype: int64"
      ]
     },
     "execution_count": 2,
     "metadata": {},
     "output_type": "execute_result"
    }
   ],
   "source": [
    "import pandas as pd\n",
    "\n",
    "\n",
    "# Importing matplotlib and setting aesthetics for plotting later.\n",
    "import matplotlib.pyplot as plt\n",
    "%matplotlib inline\n",
    "%config InlineBackend.figure_format = 'svg' \n",
    "plt.style.use('fivethirtyeight')\n",
    "\n",
    "# Reading csv into pandas\n",
    "data = pd.read_csv('dataset/coinmarketcap_06122017.csv')\n",
    "\n",
    "# Selecting the 'id' and the 'market_cap_usd' columns\n",
    "market_cap_raw = data[['id', 'market_cap_usd']]\n",
    "\n",
    "# Counting the number of values\n",
    "market_cap_raw.count()"
   ]
  },
  {
   "cell_type": "markdown",
   "id": "b1579815",
   "metadata": {},
   "source": [
    "### Discarding cryptocurrencies without market capitalization"
   ]
  },
  {
   "cell_type": "code",
   "execution_count": 5,
   "id": "12f0b2f9",
   "metadata": {},
   "outputs": [
    {
     "data": {
      "text/html": [
       "<div>\n",
       "<style scoped>\n",
       "    .dataframe tbody tr th:only-of-type {\n",
       "        vertical-align: middle;\n",
       "    }\n",
       "\n",
       "    .dataframe tbody tr th {\n",
       "        vertical-align: top;\n",
       "    }\n",
       "\n",
       "    .dataframe thead th {\n",
       "        text-align: right;\n",
       "    }\n",
       "</style>\n",
       "<table border=\"1\" class=\"dataframe\">\n",
       "  <thead>\n",
       "    <tr style=\"text-align: right;\">\n",
       "      <th></th>\n",
       "      <th>id</th>\n",
       "      <th>market_cap_usd</th>\n",
       "    </tr>\n",
       "  </thead>\n",
       "  <tbody>\n",
       "    <tr>\n",
       "      <th>0</th>\n",
       "      <td>bitcoin</td>\n",
       "      <td>2.130493e+11</td>\n",
       "    </tr>\n",
       "    <tr>\n",
       "      <th>1</th>\n",
       "      <td>ethereum</td>\n",
       "      <td>4.352945e+10</td>\n",
       "    </tr>\n",
       "    <tr>\n",
       "      <th>2</th>\n",
       "      <td>bitcoin-cash</td>\n",
       "      <td>2.529585e+10</td>\n",
       "    </tr>\n",
       "    <tr>\n",
       "      <th>3</th>\n",
       "      <td>iota</td>\n",
       "      <td>1.475225e+10</td>\n",
       "    </tr>\n",
       "    <tr>\n",
       "      <th>4</th>\n",
       "      <td>ripple</td>\n",
       "      <td>9.365343e+09</td>\n",
       "    </tr>\n",
       "    <tr>\n",
       "      <th>...</th>\n",
       "      <td>...</td>\n",
       "      <td>...</td>\n",
       "    </tr>\n",
       "    <tr>\n",
       "      <th>1026</th>\n",
       "      <td>future-digital-currency</td>\n",
       "      <td>2.510000e+02</td>\n",
       "    </tr>\n",
       "    <tr>\n",
       "      <th>1027</th>\n",
       "      <td>environ</td>\n",
       "      <td>1.360000e+02</td>\n",
       "    </tr>\n",
       "    <tr>\n",
       "      <th>1028</th>\n",
       "      <td>caliphcoin</td>\n",
       "      <td>1.000000e+02</td>\n",
       "    </tr>\n",
       "    <tr>\n",
       "      <th>1029</th>\n",
       "      <td>falcoin</td>\n",
       "      <td>2.300000e+01</td>\n",
       "    </tr>\n",
       "    <tr>\n",
       "      <th>1030</th>\n",
       "      <td>applecoin-apw</td>\n",
       "      <td>1.000000e+01</td>\n",
       "    </tr>\n",
       "  </tbody>\n",
       "</table>\n",
       "<p>1031 rows × 2 columns</p>\n",
       "</div>"
      ],
      "text/plain": [
       "                           id  market_cap_usd\n",
       "0                     bitcoin    2.130493e+11\n",
       "1                    ethereum    4.352945e+10\n",
       "2                bitcoin-cash    2.529585e+10\n",
       "3                        iota    1.475225e+10\n",
       "4                      ripple    9.365343e+09\n",
       "...                       ...             ...\n",
       "1026  future-digital-currency    2.510000e+02\n",
       "1027                  environ    1.360000e+02\n",
       "1028               caliphcoin    1.000000e+02\n",
       "1029                  falcoin    2.300000e+01\n",
       "1030            applecoin-apw    1.000000e+01\n",
       "\n",
       "[1031 rows x 2 columns]"
      ]
     },
     "execution_count": 5,
     "metadata": {},
     "output_type": "execute_result"
    }
   ],
   "source": [
    "# Filtering out rows without a market capitalization\n",
    "\n",
    "# what's distinctive about NaNs is that they're not equal to themselves:\n",
    "cap = market_cap_raw.query(\"market_cap_usd==market_cap_usd\")\n",
    "\n",
    "# Count the values\n",
    "cap.count()\n",
    "cap"
   ]
  }
 ],
 "metadata": {
  "kernelspec": {
   "display_name": "Python 3 (ipykernel)",
   "language": "python",
   "name": "python3"
  },
  "language_info": {
   "codemirror_mode": {
    "name": "ipython",
    "version": 3
   },
   "file_extension": ".py",
   "mimetype": "text/x-python",
   "name": "python",
   "nbconvert_exporter": "python",
   "pygments_lexer": "ipython3",
   "version": "3.9.6"
  }
 },
 "nbformat": 4,
 "nbformat_minor": 5
}
